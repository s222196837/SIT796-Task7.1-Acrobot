{
  "nbformat": 4,
  "nbformat_minor": 0,
  "metadata": {
    "colab": {
      "provenance": []
    },
    "kernelspec": {
      "name": "python3",
      "display_name": "Python 3"
    },
    "language_info": {
      "name": "python"
    }
  },
  "cells": [
    {
      "cell_type": "markdown",
      "source": [
        " # **Function Approximation Acrobot**"
      ],
      "metadata": {
        "id": "Jfw3gnTofdaX"
      }
    },
    {
      "cell_type": "code",
      "source": [
        "import numpy as np\n",
        "import matplotlib.pyplot as plt"
      ],
      "metadata": {
        "id": "qizWF0oWqhpH"
      },
      "execution_count": 1,
      "outputs": []
    },
    {
      "cell_type": "code",
      "source": [
        "# install gym system dependencies\n",
        "!pip install swig\n",
        "!apt-get install -y xvfb x11-utils\n",
        "!pip install PyOpenGL==3.1.* \\\n",
        "            PyOpenGL-accelerate==3.1.* \\\n",
        "            gym[box2d]==0.17.* \n",
        "! pip install pyvirtualdisplay"
      ],
      "metadata": {
        "colab": {
          "base_uri": "https://localhost:8080/",
          "height": 0
        },
        "id": "6_euqTJFsprH",
        "outputId": "a590f45a-529b-47c8-a49d-8e98767146e9"
      },
      "execution_count": 2,
      "outputs": [
        {
          "output_type": "stream",
          "name": "stdout",
          "text": [
            "Looking in indexes: https://pypi.org/simple, https://us-python.pkg.dev/colab-wheels/public/simple/\n",
            "Requirement already satisfied: swig in /usr/local/lib/python3.10/dist-packages (4.1.1)\n",
            "Reading package lists... Done\n",
            "Building dependency tree       \n",
            "Reading state information... Done\n",
            "x11-utils is already the newest version (7.7+5).\n",
            "xvfb is already the newest version (2:1.20.13-1ubuntu1~20.04.8).\n",
            "0 upgraded, 0 newly installed, 0 to remove and 24 not upgraded.\n",
            "Looking in indexes: https://pypi.org/simple, https://us-python.pkg.dev/colab-wheels/public/simple/\n",
            "Requirement already satisfied: PyOpenGL==3.1.* in /usr/local/lib/python3.10/dist-packages (3.1.6)\n",
            "Requirement already satisfied: PyOpenGL-accelerate==3.1.* in /usr/local/lib/python3.10/dist-packages (3.1.6)\n",
            "Requirement already satisfied: gym[box2d]==0.17.* in /usr/local/lib/python3.10/dist-packages (0.17.3)\n",
            "Requirement already satisfied: scipy in /usr/local/lib/python3.10/dist-packages (from gym[box2d]==0.17.*) (1.10.1)\n",
            "Requirement already satisfied: numpy>=1.10.4 in /usr/local/lib/python3.10/dist-packages (from gym[box2d]==0.17.*) (1.22.4)\n",
            "Requirement already satisfied: pyglet<=1.5.0,>=1.4.0 in /usr/local/lib/python3.10/dist-packages (from gym[box2d]==0.17.*) (1.5.0)\n",
            "Requirement already satisfied: cloudpickle<1.7.0,>=1.2.0 in /usr/local/lib/python3.10/dist-packages (from gym[box2d]==0.17.*) (1.6.0)\n",
            "Requirement already satisfied: box2d-py~=2.3.5 in /usr/local/lib/python3.10/dist-packages (from gym[box2d]==0.17.*) (2.3.8)\n",
            "Requirement already satisfied: future in /usr/local/lib/python3.10/dist-packages (from pyglet<=1.5.0,>=1.4.0->gym[box2d]==0.17.*) (0.18.3)\n",
            "Looking in indexes: https://pypi.org/simple, https://us-python.pkg.dev/colab-wheels/public/simple/\n",
            "Requirement already satisfied: pyvirtualdisplay in /usr/local/lib/python3.10/dist-packages (3.0)\n"
          ]
        }
      ]
    },
    {
      "cell_type": "code",
      "source": [
        "import gym"
      ],
      "metadata": {
        "id": "3SLKn_wd2CgC"
      },
      "execution_count": 3,
      "outputs": []
    },
    {
      "cell_type": "markdown",
      "source": [
        "## Tile Coding\n",
        "\n",
        "Uses http://incompleteideas.net/tiles/tiles3.html"
      ],
      "metadata": {
        "id": "belRdGlIgABs"
      }
    },
    {
      "cell_type": "code",
      "source": [
        "from google.colab import drive\n",
        "import sys\n",
        "drive.mount('/content/drive')\n",
        "sys.path.insert(0,'/content/drive/MyDrive/Colab Notebooks')\n",
        "import tiles3"
      ],
      "metadata": {
        "colab": {
          "base_uri": "https://localhost:8080/",
          "height": 0
        },
        "id": "KCx-nAGjrELO",
        "outputId": "cb9d587c-5bcd-477a-fa2d-245af80f9bd0"
      },
      "execution_count": 4,
      "outputs": [
        {
          "output_type": "stream",
          "name": "stdout",
          "text": [
            "Drive already mounted at /content/drive; to attempt to forcibly remount, call drive.mount(\"/content/drive\", force_remount=True).\n"
          ]
        }
      ]
    },
    {
      "cell_type": "code",
      "source": [
        "def tiling_metrics(IHT):\n",
        "    \"\"\" report index hash table state \"\"\"\n",
        "    print('IHT count:', IHT.count())\n",
        "    print('IHT full:', IHT.fullp())\n",
        "    if IHT.fullp():\n",
        "        print('Overfull:', IHT.overfullCount)\n",
        "    print('IHT size:', IHT.size)"
      ],
      "metadata": {
        "id": "JhUkcCicDLWf"
      },
      "execution_count": 5,
      "outputs": []
    },
    {
      "cell_type": "code",
      "source": [
        "class SarsaTileCodingFunctionApproximation():\n",
        "    def __init__(self, state_bounds, actions, alpha, tilings, maxima, value=0):\n",
        "        \"\"\"\n",
        "        state_bounds:  state space boundaries\n",
        "        actions:  array of all the actions\n",
        "        alpha:  each step learning rate\n",
        "        tilings:  layers of tiles\n",
        "        maxima:  largest value for scaling\n",
        "        value:  initial weight value (0)\n",
        "        \"\"\"\n",
        "        self.alpha = alpha\n",
        "        self.num_tilings = tilings\n",
        "        self.num_dimensions = len(state_bounds)\n",
        "        dynamic_scaler = lambda x: max(int(maxima / (x[1] - x[0])), 1)\n",
        "        self.scales = np.array(list(map(dynamic_scaler, state_bounds)))\n",
        "        total_tiles = (tilings + 1)**self.num_dimensions * len(actions)\n",
        "        self.weights = np.zeros(total_tiles) + value\n",
        "        self.IHT = tiles3.IHT(total_tiles)\n",
        "\n",
        "    def mytiles(self, state, action):\n",
        "        # scale state for consistent tile mapping\n",
        "        assert len(state) == self.num_dimensions\n",
        "        scaled_state = np.multiply(self.scales, state)\n",
        "        return tiles3.tiles(self.IHT, self.num_tilings, scaled_state, [action])\n",
        "\n",
        "    def test(self, state, action):\n",
        "        # select the correct weights and sum them\n",
        "        active_tiles = self.mytiles(state, action)\n",
        "        return np.sum(self.weights[active_tiles])\n",
        "\n",
        "    def learn(self, state, action, target):\n",
        "        # update active states by semi-gradient\n",
        "        active_tiles = self.mytiles(state, action)\n",
        "        previous = np.sum(self.weights[active_tiles])\n",
        "        delta = self.alpha * (target - previous)           \n",
        "        self.weights[active_tiles] += delta"
      ],
      "metadata": {
        "id": "hkX2_l0oqcqk"
      },
      "execution_count": 6,
      "outputs": []
    },
    {
      "cell_type": "code",
      "source": [
        "# Acrobot state boundaries\n",
        "state_bounds = np.array([(-1.0, +1.0),   # cosΘ1\n",
        "                         (-1.0, +1.0),   # sinΘ1\n",
        "                         (-1.0, +1.0),   # cosΘ2\n",
        "                         (-1.0, +1.0),   # sinΘ2\n",
        "                         (-4.0 * np.pi, +4.0 * np.pi),   # avΘ1\n",
        "                         (-9.0 * np.pi, +9.0 * np.pi)])   # avΘ2\n",
        "\n",
        "# Acrobot actions\n",
        "actions = np.array([-1, 0, 1])   # negative, none, positive torque"
      ],
      "metadata": {
        "id": "vqaGPCRuE_nr"
      },
      "execution_count": 7,
      "outputs": []
    },
    {
      "cell_type": "markdown",
      "source": [
        "## Semi-Gradient *Sarsa*(0)"
      ],
      "metadata": {
        "id": "pfzqCDY6iGgt"
      }
    },
    {
      "cell_type": "code",
      "execution_count": 8,
      "metadata": {
        "id": "z6pqSnkiqQeF"
      },
      "outputs": [],
      "source": [
        "def semi_gradient_sarsa_zero(env, actions, steps, episodes, gamma, epsilon, q_hat):\n",
        "    \"\"\"\n",
        "    Input:\n",
        "    env:  acrobot, gym environment\n",
        "    episodes:  max episodes to run\n",
        "    steps:  max steps for this environment\n",
        "    gamma:  discount factor [0..1]\n",
        "    epsilon:  epsilon-greedy parameter\n",
        "    q_hat:  function approximation\n",
        "    Output:  list of maximum delta for each episode\n",
        "    \"\"\"\n",
        "    def policy(state, q_hat, epsilon):\n",
        "        if np.random.rand() > epsilon:\n",
        "            q_values = [q_hat.test(state, action) for action in actions]\n",
        "            return np.argmax(q_values)\n",
        "        else:\n",
        "            return np.random.choice(actions)\n",
        "\n",
        "    deltas = []\n",
        "    for episode in range(episodes):\n",
        "        total_reward = 0\n",
        "        if episode % 10 == 0:\n",
        "            print('Episode', episode, 'of', episodes)\n",
        "\n",
        "        S = env.reset()\n",
        "        A = policy(S, q_hat, epsilon)\n",
        "        for step in range(steps):\n",
        "            S_, R, done, _ = env.step(A)\n",
        "            total_reward += R  # accumulate and divide by steps, for plots\n",
        "\n",
        "            if done:  # S_ is terminal\n",
        "                q_hat.learn(S, A, R)\n",
        "                if step+1 != steps:\n",
        "                    print('Successful episode', episode, 'reward:', total_reward)\n",
        "                break\n",
        "\n",
        "            A_ = policy(S_, q_hat, epsilon)\n",
        "            q_hat.learn(S, A, R + gamma * q_hat.test(S_, A_))\n",
        "            S, A = S_, A_\n",
        "  \n",
        "        deltas.append(total_reward)\n",
        "\n",
        "        if not done and episode % 10 == 0:\n",
        "            print('Episode', episode+1, 'of', episodes, 'reward:', total_reward)\n",
        "\n",
        "    return deltas"
      ]
    },
    {
      "cell_type": "code",
      "source": [
        "q_hat = SarsaTileCodingFunctionApproximation(state_bounds, actions, alpha=0.1, tilings=8, maxima=32)\n",
        "\n",
        "env = gym.make('Acrobot-v1')\n",
        "# Acrobot environment enforces a maximum step count (500)\n",
        "deltas = semi_gradient_sarsa_zero(env, actions, steps=500, episodes=100, gamma=0.9, epsilon=0.4, q_hat=q_hat)"
      ],
      "metadata": {
        "id": "LLMwRZUhtIma",
        "colab": {
          "base_uri": "https://localhost:8080/",
          "height": 0
        },
        "outputId": "c21f0d38-6d2d-4ce5-c2af-e4bb4b3fffdb"
      },
      "execution_count": 9,
      "outputs": [
        {
          "output_type": "stream",
          "name": "stdout",
          "text": [
            "Episode 0 of 100\n",
            "Successful episode 0 reward: -468.0\n",
            "Episode 10 of 100\n",
            "Episode 20 of 100\n",
            "Successful episode 24 reward: -431.0\n",
            "Successful episode 29 reward: -422.0\n",
            "Episode 30 of 100\n",
            "Successful episode 31 reward: -335.0\n",
            "Successful episode 33 reward: -475.0\n",
            "Episode 40 of 100\n",
            "Successful episode 45 reward: -388.0\n",
            "Successful episode 46 reward: -456.0\n",
            "Successful episode 49 reward: -407.0\n",
            "Episode 50 of 100\n",
            "Successful episode 54 reward: -497.0\n",
            "Episode 60 of 100\n",
            "Successful episode 61 reward: -371.0\n",
            "Successful episode 68 reward: -446.0\n",
            "Successful episode 69 reward: -277.0\n",
            "Episode 70 of 100\n",
            "Episode 80 of 100\n",
            "Successful episode 89 reward: -497.0\n",
            "Episode 90 of 100\n",
            "Successful episode 94 reward: -438.0\n",
            "Successful episode 96 reward: -464.0\n",
            "Successful episode 97 reward: -403.0\n"
          ]
        }
      ]
    },
    {
      "cell_type": "code",
      "source": [
        "# report state of the index hash table\n",
        "tiling_metrics(q_hat.IHT)"
      ],
      "metadata": {
        "colab": {
          "base_uri": "https://localhost:8080/",
          "height": 0
        },
        "id": "OV62fPrrjZIz",
        "outputId": "f08038a3-7c97-4c15-ccc7-6f4d169249a3"
      },
      "execution_count": 10,
      "outputs": [
        {
          "output_type": "stream",
          "name": "stdout",
          "text": [
            "IHT count: 516554\n",
            "IHT full: False\n",
            "IHT size: 1594323\n"
          ]
        }
      ]
    },
    {
      "cell_type": "code",
      "source": [
        "plt.plot(deltas)\n",
        "plt.ylim(-500,0) # rewards range over 500 steps\n",
        "plt.xlabel('Number of episodes')\n",
        "plt.ylabel('Reward')\n",
        "plt.title('Semi-Gradient Sarsa(0)')\n",
        "plt.show()"
      ],
      "metadata": {
        "colab": {
          "base_uri": "https://localhost:8080/",
          "height": 472
        },
        "id": "eCKbICIfy717",
        "outputId": "f47fa89d-0d59-4af9-b44d-8fef8c89fbcb"
      },
      "execution_count": 11,
      "outputs": [
        {
          "output_type": "display_data",
          "data": {
            "text/plain": [
              "<Figure size 640x480 with 1 Axes>"
            ],
            "image/png": "[encoded data removed]"
          },
          "metadata": {}
        }
      ]
    },
    {
      "cell_type": "markdown",
      "source": [
        "## Semi-Gradient TD(𝜆)"
      ],
      "metadata": {
        "id": "t0F3fXlDJ7zS"
      }
    },
    {
      "cell_type": "code",
      "source": [
        "class TDTileCodingFunctionApproximation():\n",
        "    def __init__(self, state_bounds, alpha, tilings, maxima, value=0):\n",
        "        \"\"\"\n",
        "        Input:\n",
        "            state_bounds:  state space boundaries\n",
        "            alpha:  each step learning rate\n",
        "            tilings:  layers of tiles\n",
        "            maxima:  largest value for scaling\n",
        "            value:  initial weight value (0)\n",
        "        \"\"\"\n",
        "        self.alpha = alpha\n",
        "        self.num_tilings = tilings\n",
        "        self.num_dimensions = len(state_bounds)\n",
        "        dynamic_scaler = lambda x: max(int(maxima / (x[1] - x[0])), 1)\n",
        "        self.scales = np.array(list(map(dynamic_scaler, state_bounds)))\n",
        "        self.total_tiles = (tilings + 1)**self.num_dimensions\n",
        "        self.weights = np.zeros(self.total_tiles) + value\n",
        "        self.trace = np.zeros(self.total_tiles)\n",
        "        self.IHT = tiles3.IHT(self.total_tiles)\n",
        "\n",
        "    def reset_trace(self):\n",
        "        total_tiles = (self.num_tilings + 1)**self.num_dimensions\n",
        "        self.trace = np.zeros(total_tiles)\n",
        "\n",
        "    def trace_delta(self, active_tiles):\n",
        "        activate = np.zeros(self.total_tiles)\n",
        "        activate[active_tiles] = 1\n",
        "        return activate\n",
        "\n",
        "    def mytiles(self, state):\n",
        "        # scale state for consistent tile mapping\n",
        "        assert len(state) == self.num_dimensions\n",
        "        scaled_state = np.multiply(self.scales, state)\n",
        "        return tiles3.tiles(self.IHT, self.num_tilings, scaled_state)\n",
        "\n",
        "    def update(self, from_state, to_state, reward, gamma, decay):\n",
        "        # update trace and weight vectors for a policy iteration\n",
        "        active_tiles = self.mytiles(from_state)\n",
        "        active_value = np.sum(self.weights[active_tiles])\n",
        "        update_tiles = self.mytiles(to_state)\n",
        "        update_value = np.sum(self.weights[update_tiles])\n",
        "        self.trace = gamma * decay * self.trace + self.trace_delta(active_tiles)\n",
        "        delta = reward + gamma * update_value - active_value\n",
        "        self.weights += self.alpha * delta * self.trace"
      ],
      "metadata": {
        "id": "ABAFzTg4ETlh"
      },
      "execution_count": 12,
      "outputs": []
    },
    {
      "cell_type": "code",
      "execution_count": 13,
      "metadata": {
        "id": "Z9Mx-kqP_YaR"
      },
      "outputs": [],
      "source": [
        "def semi_gradient_td_lambda(env, steps, episodes, gamma, decay, epsilon, v_hat):\n",
        "    \"\"\"\n",
        "    Input:\n",
        "        env:  acrobot, gym environment\n",
        "        episodes:  max episodes to run\n",
        "        gamma:  discount factor [0..1]\n",
        "        decay:  trace decay (lambda) parameter\n",
        "        epsilon:  epsilon-greedy policy parameter\n",
        "        v_hat:  function approximation (holds weights and traces)\n",
        "    Output:\n",
        "        list of maximum delta for each episode\n",
        "    \"\"\"\n",
        "    def policy(st, epsilon):\n",
        "        \"\"\"\n",
        "        A policy must be provided as input to the TD algorithm.\n",
        "        So implement this simple acrobot policy for evaluation:\n",
        "          If theta0 angular velocity is zero or positive, then\n",
        "          apply positive torque; apply negative if negative.\n",
        "          However, E% of the time take a random action instead.\n",
        "        Recall acrobot has 3 actions:\n",
        "           0: apply -1 torque to the actuated joint\n",
        "           1: apply 0 torque to the actuated joint\n",
        "           2: apply 1 torque to the actuated joint\n",
        "        \"\"\"\n",
        "        assert len(st) == 6\n",
        "        if np.random.rand() > epsilon:\n",
        "            return np.random.choice(actions)\n",
        "        if st[4] >= 0:  # theta0 angular velocity\n",
        "            return actions[2]\n",
        "        return actions[0]\n",
        "\n",
        "    deltas = []\n",
        "    for episode in range(episodes):\n",
        "        total_reward = 0\n",
        "\n",
        "        S = env.reset()\n",
        "        v_hat.reset_trace()\n",
        "\n",
        "        for step in range(steps):\n",
        "            A = policy(S, epsilon)\n",
        "            S_, R, done, _ = env.step(A)\n",
        "            v_hat.update(S, S_, R, gamma, decay)\n",
        "            S = S_\n",
        "\n",
        "            total_reward += R  # accumulate and divide by steps, for plots\n",
        "            if done:\n",
        "                if step+1 != steps:\n",
        "                    print('Successful episode', episode, 'reward:', total_reward)\n",
        "                break\n",
        "\n",
        "        average_reward = total_reward / (step+1)\n",
        "        deltas.append(total_reward)\n",
        "        if not done and episode % 10 == 0:\n",
        "            print('Episode', episode+1, 'of', episodes, 'reward:', total_reward)\n",
        "\n",
        "    return deltas"
      ]
    },
    {
      "cell_type": "code",
      "source": [
        "v_hat = TDTileCodingFunctionApproximation(state_bounds, alpha=0.01, tilings=8, maxima=32)\n",
        "\n",
        "env = gym.make('Acrobot-v1')\n",
        "# Acrobot environment enforces a maximum step count (500)\n",
        "deltas = semi_gradient_td_lambda(env, steps=500, episodes=100, gamma=0.9, decay=0.1, epsilon=0.2, v_hat=v_hat)"
      ],
      "metadata": {
        "colab": {
          "base_uri": "https://localhost:8080/",
          "height": 0
        },
        "id": "zT4YhLbUESRm",
        "outputId": "43e47dc4-193b-4bcd-db24-5d7294392404"
      },
      "execution_count": 14,
      "outputs": [
        {
          "output_type": "stream",
          "name": "stdout",
          "text": [
            "Successful episode 1 reward: -452.0\n",
            "Successful episode 3 reward: -475.0\n",
            "Successful episode 5 reward: -389.0\n",
            "Successful episode 7 reward: -334.0\n",
            "Successful episode 8 reward: -354.0\n",
            "Successful episode 9 reward: -475.0\n",
            "Successful episode 10 reward: -457.0\n",
            "Successful episode 11 reward: -361.0\n",
            "Successful episode 14 reward: -453.0\n",
            "Successful episode 16 reward: -317.0\n",
            "Successful episode 20 reward: -351.0\n",
            "Successful episode 21 reward: -455.0\n",
            "Successful episode 22 reward: -323.0\n",
            "Successful episode 26 reward: -376.0\n",
            "Successful episode 27 reward: -348.0\n",
            "Successful episode 29 reward: -369.0\n",
            "Successful episode 33 reward: -356.0\n",
            "Successful episode 36 reward: -454.0\n",
            "Successful episode 38 reward: -368.0\n",
            "Successful episode 41 reward: -285.0\n",
            "Successful episode 42 reward: -347.0\n",
            "Successful episode 45 reward: -442.0\n",
            "Successful episode 47 reward: -417.0\n",
            "Successful episode 50 reward: -479.0\n",
            "Successful episode 52 reward: -484.0\n",
            "Successful episode 53 reward: -454.0\n",
            "Successful episode 58 reward: -409.0\n",
            "Successful episode 60 reward: -323.0\n",
            "Successful episode 64 reward: -280.0\n",
            "Successful episode 67 reward: -341.0\n",
            "Successful episode 74 reward: -433.0\n",
            "Successful episode 76 reward: -299.0\n",
            "Successful episode 77 reward: -476.0\n",
            "Successful episode 81 reward: -461.0\n",
            "Successful episode 84 reward: -486.0\n",
            "Successful episode 86 reward: -447.0\n",
            "Successful episode 90 reward: -366.0\n",
            "Successful episode 94 reward: -433.0\n",
            "Successful episode 95 reward: -354.0\n",
            "Successful episode 97 reward: -492.0\n",
            "Successful episode 99 reward: -299.0\n"
          ]
        }
      ]
    },
    {
      "cell_type": "code",
      "source": [
        "# report state of the index hash table\n",
        "tiling_metrics(v_hat.IHT)"
      ],
      "metadata": {
        "colab": {
          "base_uri": "https://localhost:8080/",
          "height": 0
        },
        "id": "kOjt84sozxUt",
        "outputId": "6b401138-9a18-4d85-ddac-f28c6dc0134d"
      },
      "execution_count": 16,
      "outputs": [
        {
          "output_type": "stream",
          "name": "stdout",
          "text": [
            "IHT count: 262757\n",
            "IHT full: False\n",
            "IHT size: 531441\n"
          ]
        }
      ]
    },
    {
      "cell_type": "code",
      "source": [
        "plt.plot(deltas)\n",
        "plt.ylim(-500,0) # rewards range over 500 steps\n",
        "plt.xlabel('Number of episodes')\n",
        "plt.ylabel('Reward')\n",
        "plt.title(r'Semi-Gradient TD($\\lambda$)')\n",
        "plt.show()"
      ],
      "metadata": {
        "colab": {
          "base_uri": "https://localhost:8080/",
          "height": 474
        },
        "id": "aVeSJMu87Kc5",
        "outputId": "5c352267-4d19-4442-8e26-8fca34f24174"
      },
      "execution_count": 17,
      "outputs": [
        {
          "output_type": "display_data",
          "data": {
            "text/plain": [
              "<Figure size 640x480 with 1 Axes>"
            ],
            "image/png": "[encoded data removed]"
          },
          "metadata": {}
        }
      ]
    }
  ]
}